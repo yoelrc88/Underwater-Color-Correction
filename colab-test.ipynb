{
  "nbformat": 4,
  "nbformat_minor": 0,
  "metadata": {
    "colab": {
      "name": "Copy of TensorFlow with GPU",
      "version": "0.3.2",
      "provenance": [],
      "collapsed_sections": [],
      "toc_visible": true
    },
    "kernelspec": {
      "name": "python2",
      "display_name": "Python 2"
    },
    "accelerator": "GPU"
  },
  "cells": [
    {
      "metadata": {
        "colab_type": "text",
        "id": "BlmQIFSLZDdc"
      },
      "cell_type": "markdown",
      "source": [
        "# Testing Underwater GAN (UGAN) in Colab"
      ]
    },
    {
      "metadata": {
        "id": "xnrh_7ILSj3E",
        "colab_type": "text"
      },
      "cell_type": "markdown",
      "source": [
        "## Test tensorflow"
      ]
    },
    {
      "metadata": {
        "colab_type": "code",
        "id": "3IEVK-KFxi5Z",
        "outputId": "2566a964-c573-4e9f-e4e6-784448c26359",
        "colab": {
          "base_uri": "https://localhost:8080/",
          "height": 35
        }
      },
      "cell_type": "code",
      "source": [
        "import tensorflow as tf\n",
        "device_name = tf.test.gpu_device_name()\n",
        "if device_name != '/device:GPU:0':\n",
        "  raise SystemError('GPU device not found')\n",
        "print('Found GPU at: {}'.format(device_name))"
      ],
      "execution_count": 0,
      "outputs": [
        {
          "output_type": "stream",
          "text": [
            "Found GPU at: /device:GPU:0\n"
          ],
          "name": "stdout"
        }
      ]
    },
    {
      "metadata": {
        "id": "rY4_9f8oSpm6",
        "colab_type": "text"
      },
      "cell_type": "markdown",
      "source": [
        "## Prepare data\n",
        "\n",
        "* download repo\n",
        "* download all the data needed\n",
        "* make any needed preparation of data"
      ]
    },
    {
      "metadata": {
        "id": "E6ML5nyQSwia",
        "colab_type": "code",
        "outputId": "b1e407e8-81da-408a-9596-29aa68d78323",
        "colab": {
          "base_uri": "https://localhost:8080/",
          "height": 53
        }
      },
      "cell_type": "code",
      "source": [
        "# clone repo\n",
        "%cd /content/\n",
        "!if ! test -d Underwater-Color-Correction/; then git clone https://github.com/yoelrc88/Underwater-Color-Correction.git ; fi  \n",
        "%cd Underwater-Color-Correction/\n",
        "\n",
        "# !mkdir -p flowers/\n",
        "# %cd flowers/\n",
        "# !wget -nc https://s3.amazonaws.com/content.udacity-data.com/nd089/flower_data.tar.gz\n",
        "# !if ! test -d test/; then tar -xzf flower_data.tar.gz; fi  \n",
        "\n"
      ],
      "execution_count": 5,
      "outputs": [
        {
          "output_type": "stream",
          "text": [
            "/content\n",
            "/content/Underwater-Color-Correction\n"
          ],
          "name": "stdout"
        }
      ]
    },
    {
      "metadata": {
        "id": "ujhXKVwSYkSJ",
        "colab_type": "text"
      },
      "cell_type": "markdown",
      "source": [
        "\n",
        "\n",
        "```\n",
        "# This is formatted as code\n",
        "```\n",
        "\n",
        "### Google Drive\n",
        "\n",
        "If something we need to download something from a google drive link (models, datasets)"
      ]
    },
    {
      "metadata": {
        "id": "P6IPWFZIXx_X",
        "colab_type": "code",
        "colab": {}
      },
      "cell_type": "code",
      "source": [
        "# !pip install -U -q PyDrive\n",
        "\n",
        "# from pydrive.auth import GoogleAuth\n",
        "# from pydrive.drive import GoogleDrive\n",
        "# from google.colab import auth\n",
        "# from oauth2client.client import GoogleCredentials\n",
        "# auth.authenticate_user()\n",
        "# gauth = GoogleAuth()\n",
        "# gauth.credentials = GoogleCredentials.get_application_default()\n",
        "# drive = GoogleDrive(gauth)"
      ],
      "execution_count": 0,
      "outputs": []
    },
    {
      "metadata": {
        "id": "2pSGqcBdSsUa",
        "colab_type": "text"
      },
      "cell_type": "markdown",
      "source": [
        "## Run "
      ]
    },
    {
      "metadata": {
        "id": "VuOYcQphSxDe",
        "colab_type": "code",
        "outputId": "d35b3f44-e315-4deb-f192-61b3ff06af1e",
        "colab": {
          "base_uri": "https://localhost:8080/",
          "height": 35
        }
      },
      "cell_type": "code",
      "source": [
        "!python ./eval_one.py"
      ],
      "execution_count": 7,
      "outputs": [
        {
          "output_type": "stream",
          "text": [
            "You must provide an info.pkl file and an image\n"
          ],
          "name": "stdout"
        }
      ]
    }
  ]
}
